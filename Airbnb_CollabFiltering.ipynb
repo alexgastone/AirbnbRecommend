{
 "cells": [
  {
   "cell_type": "code",
   "execution_count": 1,
   "metadata": {
    "ExecuteTime": {
     "end_time": "2020-04-20T11:08:51.378307Z",
     "start_time": "2020-04-20T11:08:47.465289Z"
    }
   },
   "outputs": [],
   "source": [
    "import numpy as np\n",
    "import pandas as pd\n",
    "import matplotlib.pyplot as plt\n",
    "from collections import Counter\n",
    "from scipy import stats\n",
    "import seaborn as sns\n",
    "from scipy.linalg import sqrtm\n",
    "from sklearn.metrics import mean_squared_error\n",
    "from math import sqrt"
   ]
  },
  {
   "cell_type": "markdown",
   "metadata": {},
   "source": [
    "# Load data"
   ]
  },
  {
   "cell_type": "code",
   "execution_count": 2,
   "metadata": {
    "ExecuteTime": {
     "end_time": "2020-04-20T11:08:52.793698Z",
     "start_time": "2020-04-20T11:08:52.257443Z"
    }
   },
   "outputs": [
    {
     "data": {
      "text/html": [
       "<div>\n",
       "<style scoped>\n",
       "    .dataframe tbody tr th:only-of-type {\n",
       "        vertical-align: middle;\n",
       "    }\n",
       "\n",
       "    .dataframe tbody tr th {\n",
       "        vertical-align: top;\n",
       "    }\n",
       "\n",
       "    .dataframe thead th {\n",
       "        text-align: right;\n",
       "    }\n",
       "</style>\n",
       "<table border=\"1\" class=\"dataframe\">\n",
       "  <thead>\n",
       "    <tr style=\"text-align: right;\">\n",
       "      <th></th>\n",
       "      <th>listing_id</th>\n",
       "      <th>id</th>\n",
       "      <th>date</th>\n",
       "      <th>reviewer_id</th>\n",
       "      <th>reviewer_name</th>\n",
       "      <th>comments</th>\n",
       "      <th>language</th>\n",
       "      <th>polarity</th>\n",
       "    </tr>\n",
       "  </thead>\n",
       "  <tbody>\n",
       "    <tr>\n",
       "      <th>0</th>\n",
       "      <td>1178162</td>\n",
       "      <td>4724140</td>\n",
       "      <td>2013-05-21</td>\n",
       "      <td>4298113</td>\n",
       "      <td>Olivier</td>\n",
       "      <td>My stay at islam's place was really cool! Good...</td>\n",
       "      <td>en</td>\n",
       "      <td>0.9626</td>\n",
       "    </tr>\n",
       "    <tr>\n",
       "      <th>1</th>\n",
       "      <td>1178162</td>\n",
       "      <td>4869189</td>\n",
       "      <td>2013-05-29</td>\n",
       "      <td>6452964</td>\n",
       "      <td>Charlotte</td>\n",
       "      <td>Great location for both airport and city - gre...</td>\n",
       "      <td>en</td>\n",
       "      <td>0.9061</td>\n",
       "    </tr>\n",
       "    <tr>\n",
       "      <th>2</th>\n",
       "      <td>1178162</td>\n",
       "      <td>5003196</td>\n",
       "      <td>2013-06-06</td>\n",
       "      <td>6449554</td>\n",
       "      <td>Sebastian</td>\n",
       "      <td>We really enjoyed our stay at Islams house. Fr...</td>\n",
       "      <td>en</td>\n",
       "      <td>0.9663</td>\n",
       "    </tr>\n",
       "    <tr>\n",
       "      <th>3</th>\n",
       "      <td>1178162</td>\n",
       "      <td>5150351</td>\n",
       "      <td>2013-06-15</td>\n",
       "      <td>2215611</td>\n",
       "      <td>Marine</td>\n",
       "      <td>The room was nice and clean and so were the co...</td>\n",
       "      <td>en</td>\n",
       "      <td>0.9267</td>\n",
       "    </tr>\n",
       "    <tr>\n",
       "      <th>4</th>\n",
       "      <td>1178162</td>\n",
       "      <td>5171140</td>\n",
       "      <td>2013-06-16</td>\n",
       "      <td>6848427</td>\n",
       "      <td>Andrew</td>\n",
       "      <td>Great location. Just   mins walk from the Airp...</td>\n",
       "      <td>en</td>\n",
       "      <td>0.8658</td>\n",
       "    </tr>\n",
       "  </tbody>\n",
       "</table>\n",
       "</div>"
      ],
      "text/plain": [
       "   listing_id       id        date  reviewer_id reviewer_name  \\\n",
       "0     1178162  4724140  2013-05-21      4298113       Olivier   \n",
       "1     1178162  4869189  2013-05-29      6452964     Charlotte   \n",
       "2     1178162  5003196  2013-06-06      6449554     Sebastian   \n",
       "3     1178162  5150351  2013-06-15      2215611        Marine   \n",
       "4     1178162  5171140  2013-06-16      6848427        Andrew   \n",
       "\n",
       "                                            comments language  polarity  \n",
       "0  My stay at islam's place was really cool! Good...       en    0.9626  \n",
       "1  Great location for both airport and city - gre...       en    0.9061  \n",
       "2  We really enjoyed our stay at Islams house. Fr...       en    0.9663  \n",
       "3  The room was nice and clean and so were the co...       en    0.9267  \n",
       "4  Great location. Just   mins walk from the Airp...       en    0.8658  "
      ]
     },
     "execution_count": 2,
     "metadata": {},
     "output_type": "execute_result"
    }
   ],
   "source": [
    "reviews = pd.read_csv('reviews_en_polarity.csv')\n",
    "reviews.head()"
   ]
  },
  {
   "cell_type": "code",
   "execution_count": 3,
   "metadata": {
    "ExecuteTime": {
     "end_time": "2020-04-20T11:08:57.365143Z",
     "start_time": "2020-04-20T11:08:57.339469Z"
    }
   },
   "outputs": [],
   "source": [
    "df_rec = reviews[['reviewer_id', 'listing_id', 'polarity']]"
   ]
  },
  {
   "cell_type": "code",
   "execution_count": 5,
   "metadata": {
    "ExecuteTime": {
     "end_time": "2020-04-04T22:01:16.270533Z",
     "start_time": "2020-04-04T22:01:16.243462Z"
    }
   },
   "outputs": [
    {
     "data": {
      "text/plain": [
       "reviewer_id    59623\n",
       "listing_id      2756\n",
       "polarity        4631\n",
       "dtype: int64"
      ]
     },
     "execution_count": 5,
     "metadata": {},
     "output_type": "execute_result"
    }
   ],
   "source": [
    "df_rec.nunique()"
   ]
  },
  {
   "cell_type": "code",
   "execution_count": 8,
   "metadata": {
    "ExecuteTime": {
     "end_time": "2020-04-04T22:02:53.007223Z",
     "start_time": "2020-04-04T22:02:52.988835Z"
    }
   },
   "outputs": [
    {
     "data": {
      "text/html": [
       "<div>\n",
       "<style scoped>\n",
       "    .dataframe tbody tr th:only-of-type {\n",
       "        vertical-align: middle;\n",
       "    }\n",
       "\n",
       "    .dataframe tbody tr th {\n",
       "        vertical-align: top;\n",
       "    }\n",
       "\n",
       "    .dataframe thead th {\n",
       "        text-align: right;\n",
       "    }\n",
       "</style>\n",
       "<table border=\"1\" class=\"dataframe\">\n",
       "  <thead>\n",
       "    <tr style=\"text-align: right;\">\n",
       "      <th></th>\n",
       "      <th>reviewer_id</th>\n",
       "      <th>listing_id</th>\n",
       "      <th>polarity</th>\n",
       "    </tr>\n",
       "  </thead>\n",
       "  <tbody>\n",
       "    <tr>\n",
       "      <th>0</th>\n",
       "      <td>4298113</td>\n",
       "      <td>1178162</td>\n",
       "      <td>0.9626</td>\n",
       "    </tr>\n",
       "    <tr>\n",
       "      <th>1</th>\n",
       "      <td>6452964</td>\n",
       "      <td>1178162</td>\n",
       "      <td>0.9061</td>\n",
       "    </tr>\n",
       "    <tr>\n",
       "      <th>2</th>\n",
       "      <td>6449554</td>\n",
       "      <td>1178162</td>\n",
       "      <td>0.9663</td>\n",
       "    </tr>\n",
       "    <tr>\n",
       "      <th>3</th>\n",
       "      <td>2215611</td>\n",
       "      <td>1178162</td>\n",
       "      <td>0.9267</td>\n",
       "    </tr>\n",
       "    <tr>\n",
       "      <th>4</th>\n",
       "      <td>6848427</td>\n",
       "      <td>1178162</td>\n",
       "      <td>0.8658</td>\n",
       "    </tr>\n",
       "    <tr>\n",
       "      <th>...</th>\n",
       "      <td>...</td>\n",
       "      <td>...</td>\n",
       "      <td>...</td>\n",
       "    </tr>\n",
       "    <tr>\n",
       "      <th>63738</th>\n",
       "      <td>66618882</td>\n",
       "      <td>7462268</td>\n",
       "      <td>0.8955</td>\n",
       "    </tr>\n",
       "    <tr>\n",
       "      <th>63739</th>\n",
       "      <td>40052513</td>\n",
       "      <td>7462268</td>\n",
       "      <td>0.9504</td>\n",
       "    </tr>\n",
       "    <tr>\n",
       "      <th>63740</th>\n",
       "      <td>77129134</td>\n",
       "      <td>7462268</td>\n",
       "      <td>0.9693</td>\n",
       "    </tr>\n",
       "    <tr>\n",
       "      <th>63741</th>\n",
       "      <td>15799803</td>\n",
       "      <td>7462268</td>\n",
       "      <td>0.9957</td>\n",
       "    </tr>\n",
       "    <tr>\n",
       "      <th>63742</th>\n",
       "      <td>90128094</td>\n",
       "      <td>7462268</td>\n",
       "      <td>0.7564</td>\n",
       "    </tr>\n",
       "  </tbody>\n",
       "</table>\n",
       "<p>63743 rows × 3 columns</p>\n",
       "</div>"
      ],
      "text/plain": [
       "       reviewer_id  listing_id  polarity\n",
       "0          4298113     1178162    0.9626\n",
       "1          6452964     1178162    0.9061\n",
       "2          6449554     1178162    0.9663\n",
       "3          2215611     1178162    0.9267\n",
       "4          6848427     1178162    0.8658\n",
       "...            ...         ...       ...\n",
       "63738     66618882     7462268    0.8955\n",
       "63739     40052513     7462268    0.9504\n",
       "63740     77129134     7462268    0.9693\n",
       "63741     15799803     7462268    0.9957\n",
       "63742     90128094     7462268    0.7564\n",
       "\n",
       "[63743 rows x 3 columns]"
      ]
     },
     "execution_count": 8,
     "metadata": {},
     "output_type": "execute_result"
    }
   ],
   "source": [
    "df_rec"
   ]
  },
  {
   "cell_type": "markdown",
   "metadata": {},
   "source": [
    "# Build recommendation engine"
   ]
  },
  {
   "cell_type": "code",
   "execution_count": 4,
   "metadata": {
    "ExecuteTime": {
     "end_time": "2020-04-20T11:09:14.344481Z",
     "start_time": "2020-04-20T11:09:06.284868Z"
    }
   },
   "outputs": [
    {
     "data": {
      "text/html": [
       "<div>\n",
       "<style scoped>\n",
       "    .dataframe tbody tr th:only-of-type {\n",
       "        vertical-align: middle;\n",
       "    }\n",
       "\n",
       "    .dataframe tbody tr th {\n",
       "        vertical-align: top;\n",
       "    }\n",
       "\n",
       "    .dataframe thead th {\n",
       "        text-align: right;\n",
       "    }\n",
       "</style>\n",
       "<table border=\"1\" class=\"dataframe\">\n",
       "  <thead>\n",
       "    <tr style=\"text-align: right;\">\n",
       "      <th>listing_id</th>\n",
       "      <th>3353</th>\n",
       "      <th>5506</th>\n",
       "      <th>6695</th>\n",
       "      <th>6976</th>\n",
       "      <th>8792</th>\n",
       "      <th>9273</th>\n",
       "      <th>9765</th>\n",
       "      <th>9824</th>\n",
       "      <th>9855</th>\n",
       "      <th>9857</th>\n",
       "      <th>...</th>\n",
       "      <th>14770708</th>\n",
       "      <th>14770892</th>\n",
       "      <th>14774426</th>\n",
       "      <th>14774868</th>\n",
       "      <th>14778561</th>\n",
       "      <th>14780153</th>\n",
       "      <th>14813006</th>\n",
       "      <th>14823724</th>\n",
       "      <th>14843050</th>\n",
       "      <th>14843783</th>\n",
       "    </tr>\n",
       "    <tr>\n",
       "      <th>reviewer_id</th>\n",
       "      <th></th>\n",
       "      <th></th>\n",
       "      <th></th>\n",
       "      <th></th>\n",
       "      <th></th>\n",
       "      <th></th>\n",
       "      <th></th>\n",
       "      <th></th>\n",
       "      <th></th>\n",
       "      <th></th>\n",
       "      <th></th>\n",
       "      <th></th>\n",
       "      <th></th>\n",
       "      <th></th>\n",
       "      <th></th>\n",
       "      <th></th>\n",
       "      <th></th>\n",
       "      <th></th>\n",
       "      <th></th>\n",
       "      <th></th>\n",
       "      <th></th>\n",
       "    </tr>\n",
       "  </thead>\n",
       "  <tbody>\n",
       "    <tr>\n",
       "      <th>143</th>\n",
       "      <td>NaN</td>\n",
       "      <td>NaN</td>\n",
       "      <td>NaN</td>\n",
       "      <td>NaN</td>\n",
       "      <td>NaN</td>\n",
       "      <td>NaN</td>\n",
       "      <td>NaN</td>\n",
       "      <td>NaN</td>\n",
       "      <td>NaN</td>\n",
       "      <td>NaN</td>\n",
       "      <td>...</td>\n",
       "      <td>NaN</td>\n",
       "      <td>NaN</td>\n",
       "      <td>NaN</td>\n",
       "      <td>NaN</td>\n",
       "      <td>NaN</td>\n",
       "      <td>NaN</td>\n",
       "      <td>NaN</td>\n",
       "      <td>NaN</td>\n",
       "      <td>NaN</td>\n",
       "      <td>NaN</td>\n",
       "    </tr>\n",
       "    <tr>\n",
       "      <th>322</th>\n",
       "      <td>NaN</td>\n",
       "      <td>NaN</td>\n",
       "      <td>NaN</td>\n",
       "      <td>NaN</td>\n",
       "      <td>NaN</td>\n",
       "      <td>NaN</td>\n",
       "      <td>NaN</td>\n",
       "      <td>NaN</td>\n",
       "      <td>NaN</td>\n",
       "      <td>NaN</td>\n",
       "      <td>...</td>\n",
       "      <td>NaN</td>\n",
       "      <td>NaN</td>\n",
       "      <td>NaN</td>\n",
       "      <td>NaN</td>\n",
       "      <td>NaN</td>\n",
       "      <td>NaN</td>\n",
       "      <td>NaN</td>\n",
       "      <td>NaN</td>\n",
       "      <td>NaN</td>\n",
       "      <td>NaN</td>\n",
       "    </tr>\n",
       "    <tr>\n",
       "      <th>933</th>\n",
       "      <td>NaN</td>\n",
       "      <td>NaN</td>\n",
       "      <td>NaN</td>\n",
       "      <td>NaN</td>\n",
       "      <td>NaN</td>\n",
       "      <td>NaN</td>\n",
       "      <td>NaN</td>\n",
       "      <td>NaN</td>\n",
       "      <td>NaN</td>\n",
       "      <td>NaN</td>\n",
       "      <td>...</td>\n",
       "      <td>NaN</td>\n",
       "      <td>NaN</td>\n",
       "      <td>NaN</td>\n",
       "      <td>NaN</td>\n",
       "      <td>NaN</td>\n",
       "      <td>NaN</td>\n",
       "      <td>NaN</td>\n",
       "      <td>NaN</td>\n",
       "      <td>NaN</td>\n",
       "      <td>NaN</td>\n",
       "    </tr>\n",
       "    <tr>\n",
       "      <th>1960</th>\n",
       "      <td>NaN</td>\n",
       "      <td>NaN</td>\n",
       "      <td>NaN</td>\n",
       "      <td>NaN</td>\n",
       "      <td>NaN</td>\n",
       "      <td>NaN</td>\n",
       "      <td>NaN</td>\n",
       "      <td>NaN</td>\n",
       "      <td>NaN</td>\n",
       "      <td>NaN</td>\n",
       "      <td>...</td>\n",
       "      <td>NaN</td>\n",
       "      <td>NaN</td>\n",
       "      <td>NaN</td>\n",
       "      <td>NaN</td>\n",
       "      <td>NaN</td>\n",
       "      <td>NaN</td>\n",
       "      <td>NaN</td>\n",
       "      <td>NaN</td>\n",
       "      <td>NaN</td>\n",
       "      <td>NaN</td>\n",
       "    </tr>\n",
       "    <tr>\n",
       "      <th>2237</th>\n",
       "      <td>NaN</td>\n",
       "      <td>NaN</td>\n",
       "      <td>NaN</td>\n",
       "      <td>NaN</td>\n",
       "      <td>NaN</td>\n",
       "      <td>NaN</td>\n",
       "      <td>NaN</td>\n",
       "      <td>NaN</td>\n",
       "      <td>NaN</td>\n",
       "      <td>NaN</td>\n",
       "      <td>...</td>\n",
       "      <td>NaN</td>\n",
       "      <td>NaN</td>\n",
       "      <td>NaN</td>\n",
       "      <td>NaN</td>\n",
       "      <td>NaN</td>\n",
       "      <td>NaN</td>\n",
       "      <td>NaN</td>\n",
       "      <td>NaN</td>\n",
       "      <td>NaN</td>\n",
       "      <td>NaN</td>\n",
       "    </tr>\n",
       "  </tbody>\n",
       "</table>\n",
       "<p>5 rows × 2756 columns</p>\n",
       "</div>"
      ],
      "text/plain": [
       "listing_id   3353      5506      6695      6976      8792      9273      \\\n",
       "reviewer_id                                                               \n",
       "143               NaN       NaN       NaN       NaN       NaN       NaN   \n",
       "322               NaN       NaN       NaN       NaN       NaN       NaN   \n",
       "933               NaN       NaN       NaN       NaN       NaN       NaN   \n",
       "1960              NaN       NaN       NaN       NaN       NaN       NaN   \n",
       "2237              NaN       NaN       NaN       NaN       NaN       NaN   \n",
       "\n",
       "listing_id   9765      9824      9855      9857      ...  14770708  14770892  \\\n",
       "reviewer_id                                          ...                       \n",
       "143               NaN       NaN       NaN       NaN  ...       NaN       NaN   \n",
       "322               NaN       NaN       NaN       NaN  ...       NaN       NaN   \n",
       "933               NaN       NaN       NaN       NaN  ...       NaN       NaN   \n",
       "1960              NaN       NaN       NaN       NaN  ...       NaN       NaN   \n",
       "2237              NaN       NaN       NaN       NaN  ...       NaN       NaN   \n",
       "\n",
       "listing_id   14774426  14774868  14778561  14780153  14813006  14823724  \\\n",
       "reviewer_id                                                               \n",
       "143               NaN       NaN       NaN       NaN       NaN       NaN   \n",
       "322               NaN       NaN       NaN       NaN       NaN       NaN   \n",
       "933               NaN       NaN       NaN       NaN       NaN       NaN   \n",
       "1960              NaN       NaN       NaN       NaN       NaN       NaN   \n",
       "2237              NaN       NaN       NaN       NaN       NaN       NaN   \n",
       "\n",
       "listing_id   14843050  14843783  \n",
       "reviewer_id                      \n",
       "143               NaN       NaN  \n",
       "322               NaN       NaN  \n",
       "933               NaN       NaN  \n",
       "1960              NaN       NaN  \n",
       "2237              NaN       NaN  \n",
       "\n",
       "[5 rows x 2756 columns]"
      ]
     },
     "execution_count": 4,
     "metadata": {},
     "output_type": "execute_result"
    }
   ],
   "source": [
    "# create utility matrix\n",
    "\n",
    "matrix = df_rec.pivot_table(index='reviewer_id', columns='listing_id', values='polarity')\n",
    "matrix.head()"
   ]
  },
  {
   "cell_type": "code",
   "execution_count": 5,
   "metadata": {
    "ExecuteTime": {
     "end_time": "2020-04-20T11:09:17.338414Z",
     "start_time": "2020-04-20T11:09:17.281482Z"
    }
   },
   "outputs": [],
   "source": [
    "# keep track of reviewers (users) and listings (items)\n",
    "\n",
    "userrows = list(matrix.index)\n",
    "users_index = {userrows[i]: i for i in range(len(userrows))}\n",
    "\n",
    "itemcols = list(matrix.columns)\n",
    "items_index = {itemcols[i]: i for i in range(len(itemcols))}"
   ]
  },
  {
   "cell_type": "markdown",
   "metadata": {},
   "source": [
    "## Option 1: use SVD"
   ]
  },
  {
   "cell_type": "code",
   "execution_count": 11,
   "metadata": {
    "ExecuteTime": {
     "end_time": "2020-04-20T11:37:51.276182Z",
     "start_time": "2020-04-20T11:37:51.238650Z"
    }
   },
   "outputs": [],
   "source": [
    "from scipy.sparse.linalg import svds\n",
    "\n",
    "# this function also incorporates creating the utility matrix and keep track of reviewer and listing IDs\n",
    "\n",
    "def recommend_predictions(df_rec, k):\n",
    "    \"\"\"\n",
    "    :param df_rec: dataframe with polarity values for known reviewer/listing pairs\n",
    "    :param k: number of features to keep for SVD\n",
    "\n",
    "    returns the dataframe with predicted polarity values for all (user,item) pairs\n",
    "    \"\"\"\n",
    "    # get utility matrix\n",
    "    util_mat = df_rec.pivot_table(index='reviewer_id', columns='listing_id', values='polarity')\n",
    "\n",
    "    # keep track of reviewers and listings\n",
    "    reviewer_rows = list(util_mat.index)\n",
    "    reviewer_index = {reviewer_rows[i]: i for i in range(len(reviewer_rows))}\n",
    "    listing_cols = list(util_mat.columns)\n",
    "    listing_index = {listing_cols[i]: i for i in range(len(listing_cols))}\n",
    "\n",
    "    # mask NaN and remove means\n",
    "    mask = np.isnan(util_mat)\n",
    "    masked_arr = np.ma.masked_array(util_mat, mask)\n",
    "    item_means = np.mean(masked_arr, axis=0) \n",
    "    util_mat = masked_arr.filled(item_means)\n",
    "    means = np.tile(item_means, (util_mat.shape[0],1))\n",
    "    util_mat_demeaned = util_mat - means\n",
    "\n",
    "    # run SVD\n",
    "    U, sigma, Vt = svds(util_mat_demeaned, k = k)\n",
    "    sigma = np.diag(sigma)  \n",
    "    all_predicted_polarity = np.dot(np.dot(U, sigma), Vt) + means\n",
    "\n",
    "    return all_predicted_polarity, reviewer_index, listing_index"
   ]
  },
  {
   "cell_type": "code",
   "execution_count": 12,
   "metadata": {
    "ExecuteTime": {
     "end_time": "2020-04-20T11:39:24.647754Z",
     "start_time": "2020-04-20T11:37:53.023540Z"
    }
   },
   "outputs": [],
   "source": [
    "pred,_,_ = recommend_predictions(df_rec, k=50)"
   ]
  },
  {
   "cell_type": "markdown",
   "metadata": {},
   "source": [
    "Ideally in most ML problems, train SVD on a training set (utility matrix) and evaluate on testing set. Problem is how to split it, ie test data can't have unseen users or listings (cold start), also harder the less observations there are of a particular reviewer/listing. Would need a blended approach, do collaborative filtering for test cases where users and items were part of training, and do content-based filtering for ex on unseen test cases."
   ]
  },
  {
   "cell_type": "markdown",
   "metadata": {},
   "source": [
    "For now, evaluate on training data."
   ]
  },
  {
   "cell_type": "code",
   "execution_count": 13,
   "metadata": {
    "ExecuteTime": {
     "end_time": "2020-04-20T11:39:53.809875Z",
     "start_time": "2020-04-20T11:39:37.371336Z"
    }
   },
   "outputs": [],
   "source": [
    "# evaluate on known reviewer-listing pairs\n",
    "\n",
    "this_pred = [] #to store the predicted ratings\n",
    "for i, row in df_rec.iterrows():\n",
    "    user = row['reviewer_id']\n",
    "    item = row['listing_id']\n",
    "    \n",
    "    try:\n",
    "        u_index = users_index[user]\n",
    "        if item in items_index:\n",
    "            i_index = items_index[item]\n",
    "            pred_rating = pred[u_index, i_index]\n",
    "        else:\n",
    "            pred_rating = np.mean(svdout[u_index, :])\n",
    "        this_pred.append(pred_rating)\n",
    "        \n",
    "    except:\n",
    "        print('error with user', user, 'at index', i)"
   ]
  },
  {
   "cell_type": "code",
   "execution_count": 14,
   "metadata": {
    "ExecuteTime": {
     "end_time": "2020-04-20T11:39:55.144168Z",
     "start_time": "2020-04-20T11:39:55.083129Z"
    }
   },
   "outputs": [
    {
     "name": "stdout",
     "output_type": "stream",
     "text": [
      "0.1903197264468117\n"
     ]
    }
   ],
   "source": [
    "rmse = sqrt(mean_squared_error(df_rec['polarity'], this_pred))\n",
    "print(rmse)"
   ]
  },
  {
   "cell_type": "markdown",
   "metadata": {},
   "source": [
    "**Hyperparam optimization**: `k`, the number of features into which each user and movie will be resolved into"
   ]
  },
  {
   "cell_type": "code",
   "execution_count": 17,
   "metadata": {
    "ExecuteTime": {
     "end_time": "2020-04-20T11:53:55.753124Z",
     "start_time": "2020-04-20T11:46:15.236936Z"
    }
   },
   "outputs": [
    {
     "name": "stdout",
     "output_type": "stream",
     "text": [
      "70 0.18237034891641787\n",
      "100 0.17276148855751566\n",
      "120 0.1674806007852554\n",
      "150 0.15999950624744558\n"
     ]
    }
   ],
   "source": [
    "# try different values of k\n",
    "\n",
    "no_of_features = [70, 100, 120, 150]\n",
    "rmse= []\n",
    "\n",
    "for k in no_of_features:\n",
    "    pred_out, _, _ = recommend_predictions(df_rec, k=k)\n",
    "    \n",
    "    this_pred = [] #to store the predicted ratings\n",
    "    for i, row in df_rec.iterrows():\n",
    "        user = row['reviewer_id']\n",
    "        item = row['listing_id']\n",
    "\n",
    "        try:\n",
    "            u_index = users_index[user]\n",
    "            if item in items_index:\n",
    "                i_index = items_index[item]\n",
    "                pred_rating = pred_out[u_index, i_index]\n",
    "            else:\n",
    "                pred_rating = np.mean(svdout[u_index, :])\n",
    "            this_pred.append(pred_rating)\n",
    "\n",
    "        except:\n",
    "            print('error with user', user, 'at index', i)\n",
    "            continue\n",
    "\n",
    "    rmse_i = sqrt(mean_squared_error(df_rec['polarity'], this_pred))\n",
    "    rmse.append(rmse_i)\n",
    "    \n",
    "    print(k, rmse_i)"
   ]
  },
  {
   "cell_type": "code",
   "execution_count": 18,
   "metadata": {
    "ExecuteTime": {
     "end_time": "2020-04-20T11:54:03.989300Z",
     "start_time": "2020-04-20T11:54:03.113475Z"
    }
   },
   "outputs": [
    {
     "data": {
      "image/png": "[encoded data removed]",
      "text/plain": [
       "<Figure size 432x288 with 1 Axes>"
      ]
     },
     "metadata": {
      "needs_background": "light"
     },
     "output_type": "display_data"
    }
   ],
   "source": [
    "plt.scatter(no_of_features, rmse);"
   ]
  },
  {
   "cell_type": "markdown",
   "metadata": {},
   "source": [
    "## Option 2: Implementing Funk SVD"
   ]
  },
  {
   "cell_type": "markdown",
   "metadata": {},
   "source": [
    "No sigma matrix for Funk SVD matrix factorization, uses (polarity) value updating with gradient descent to find all reviewer-listing pairs. The listing and reviewer matrices (U and V) are randomly initialized. Works better than SVD for sparse matrices, but a lot more computationally expensive.\n",
    "\n",
    "Could further add regularization weights to latent factors based on listing popularity and reviewer activeness: https://dl.acm.org/doi/10.1145/3285954"
   ]
  },
  {
   "cell_type": "code",
   "execution_count": 63,
   "metadata": {
    "ExecuteTime": {
     "end_time": "2020-04-21T09:29:32.903155Z",
     "start_time": "2020-04-21T09:29:32.846736Z"
    }
   },
   "outputs": [],
   "source": [
    "from math import sqrt\n",
    "from IPython.display import clear_output\n",
    "import timeit\n",
    "\n",
    "def funkSVD(util_mat, latent_features=100, learning_rate=0.0001, iters=100, plot=True, use_prev_train=False, \n",
    "            prev_train_reviewer=None, prev_train_listing=None):  \n",
    "    \"\"\" \n",
    "    Estimates the full matrix of polarities for user/item pairs using an implementation of Simon Funk's SVD\n",
    "    \n",
    "    :param util_mat: utility matrix with reviewer and listing axes\n",
    "    :param latent_features: k, number of selected features to keep\n",
    "    :param learning_rate: learning rate for gradient descent\n",
    "    :param iters: number of iterations\n",
    "    :plot: bool, whether to plot progress of iter vs cost fct (RMSE)\n",
    "    :use_prev_train: bool, whether to initialize reviewer and listing matrices with a previous round of training \n",
    "    :prev_train_reviewer: previous round's reviewer matrix\n",
    "    :prev_train_listing: previous round's listing matrix\n",
    "    \n",
    "    returns full estimated matrix, and U (reviewers) and V (listings) matrices\n",
    "    \"\"\"\n",
    "    \n",
    "    start = timeit.default_timer()\n",
    "    util_mat = np.matrix(util_mat)\n",
    "    n_reviewers = util_mat.shape[0]\n",
    "    n_listings = util_mat.shape[1]\n",
    "    \n",
    "    # number of non-null polarity values we have (ie. known reviewer/listing polarity values)\n",
    "    num_polarities = np.count_nonzero(~np.isnan(matrix))\n",
    "    \n",
    "    # if want to pick up training from last checkpoint\n",
    "    if use_prev_train:\n",
    "        reviewer_mat = prev_train_reviewer\n",
    "        listing_mat = prev_train_listing\n",
    "    else:\n",
    "        # initialize the U and V matrices with random values in range -1 to 1 inclusive (polarity range)\n",
    "        reviewer_mat = np.random.randint(-1, 2, size=(n_reviewers, latent_features)).astype(float)\n",
    "        listing_mat = np.random.randint(-1, 2, size=(latent_features, n_listings)).astype(float)\n",
    "    \n",
    "    rmse_accum = 0\n",
    "    rmse_list = []\n",
    "    \n",
    "    for iteration in range(iters):\n",
    "        clear_output(wait=True)\n",
    "        \n",
    "        old_sse = rmse_accum\n",
    "        rmse_accum = 0\n",
    "        for i in range(n_reviewers):\n",
    "            for j in range(n_listings):       \n",
    "                # if polarity not nan\n",
    "                if util_mat[i, j] > 0:                   \n",
    "                    # compute the error between actual polarity and current (from init rand) polarity\n",
    "                    diff = util_mat[i, j] - np.dot(reviewer_mat[i, :], listing_mat[:, j])\n",
    "                    \n",
    "                    # update RMSE\n",
    "                    rmse_accum += sqrt(diff**2)\n",
    "                    \n",
    "                    # update the values in each matrix in the direction of the gradient\n",
    "                    for k in range(latent_features):\n",
    "                        reviewer_mat[i, k] += learning_rate * (2*diff*listing_mat[k, j])\n",
    "                        listing_mat[k, j] += learning_rate * (2*diff*reviewer_mat[i, k])\n",
    "        \n",
    "        rmse_list.append( rmse_accum / num_polarities )\n",
    "        stop = timeit.default_timer()\n",
    "        \n",
    "        # print results for iteration\n",
    "        print(\"Current iteration: %d, RMSE: %f\" % (iteration+1, rmse_accum / num_polarities)),\n",
    "        print(\"Current run time: %f minutes\" % ((stop-start)/60))\n",
    "        \n",
    "        if plot:\n",
    "            plt.figure()\n",
    "            plt.scatter(np.arange(iteration+1), rmse_list)\n",
    "            plt.plot(np.arange(iteration+1), rmse_list)\n",
    "            plt.xlabel('iteration')\n",
    "            plt.ylabel('RMSE');\n",
    "            #plt.pause(1);\n",
    "    \n",
    "    # get full matrix as dot product of U and V\n",
    "    full_mat = np.dot(reviewer_mat, listing_mat)\n",
    "        \n",
    "    return full_mat, reviewer_mat, listing_mat "
   ]
  },
  {
   "cell_type": "code",
   "execution_count": 64,
   "metadata": {
    "ExecuteTime": {
     "end_time": "2020-04-21T14:52:47.920149Z",
     "start_time": "2020-04-21T09:29:37.622997Z"
    },
    "scrolled": true
   },
   "outputs": [
    {
     "name": "stdout",
     "output_type": "stream",
     "text": [
      "Current iteration: 100, RMSE: 0.156774\n",
      "Current run time: 323.090000 minutes\n"
     ]
    },
    {
     "data": {
      "image/png": "[encoded data removed]",
      "text/plain": [
       "<Figure size 432x288 with 1 Axes>"
      ]
     },
     "metadata": {
      "needs_background": "light"
     },
     "output_type": "display_data"
    }
   ],
   "source": [
    "# matrix -> the utility matrix calculated in previous section\n",
    "\n",
    "funk_full_mat, reviewer_mat, listing_mat = funkSVD(matrix, latent_features=50, learning_rate=0.001)"
   ]
  },
  {
   "cell_type": "code",
   "execution_count": 65,
   "metadata": {
    "ExecuteTime": {
     "end_time": "2020-04-21T18:22:06.584063Z",
     "start_time": "2020-04-21T18:21:44.246139Z"
    }
   },
   "outputs": [],
   "source": [
    "# save matrices as pkl files\n",
    "import pickle\n",
    "\n",
    "pickle.dump( funk_full_mat, open( \"funk_full_mat.p\", \"wb\" ) )\n",
    "pickle.dump( reviewer_mat, open( \"reviewer_mat.p\", \"wb\" ) )\n",
    "pickle.dump( listing_mat, open( \"listing_mat.p\", \"wb\" ) )"
   ]
  },
  {
   "cell_type": "markdown",
   "metadata": {},
   "source": [
    "Or directly run an optimized and fast (Numba) python implementation, includes regularization, from https://github.com/gbolmier/funk-svd"
   ]
  },
  {
   "cell_type": "code",
   "execution_count": null,
   "metadata": {
    "ExecuteTime": {
     "end_time": "2020-04-21T18:23:03.803429Z",
     "start_time": "2020-04-21T18:22:38.858942Z"
    }
   },
   "outputs": [],
   "source": [
    "!pip install git+https://github.com/gbolmier/funk-svd"
   ]
  },
  {
   "cell_type": "code",
   "execution_count": null,
   "metadata": {},
   "outputs": [],
   "source": [
    "#from funk_svd.dataset import fetch_ml_ratings\n",
    "\n",
    "#df.sample(frac=0.8, random_state=7).head()"
   ]
  },
  {
   "cell_type": "code",
   "execution_count": null,
   "metadata": {},
   "outputs": [],
   "source": [
    "from funk_svd import SVD\n",
    "\n",
    "svd = SVD(learning_rate=0.001, regularization=0.005, n_epochs=100, n_factors=50, min_rating=-1, max_rating=1)\n",
    "svd.fit(X=matrix, early_stopping=True, shuffle=False)"
   ]
  },
  {
   "cell_type": "markdown",
   "metadata": {},
   "source": [
    "# Get top recommendations for a user"
   ]
  },
  {
   "cell_type": "code",
   "execution_count": 45,
   "metadata": {
    "ExecuteTime": {
     "end_time": "2020-04-21T08:48:26.877952Z",
     "start_time": "2020-04-21T08:48:26.822867Z"
    }
   },
   "outputs": [],
   "source": [
    "listing_id_array = df_rec['listing_id'].unique()\n",
    "\n",
    "def get_recommendations(predMat, reviewer, N):\n",
    "    \"\"\"\n",
    "    predMat: predicted matrix, svdout\n",
    "    reviewer: selected reviewer_id\n",
    "    N: top N recommendations\n",
    "    \n",
    "    return top N recommendations for specified user\n",
    "    \"\"\"\n",
    "    u_index = users_index[reviewer]\n",
    "    item_i = [items_index[listing_id_array[i]] for i in range(len(listing_id_array))]\n",
    "    \n",
    "    pred_user = [predMat[u_index, i_index] for i_index in item_i]\n",
    "    \n",
    "    d = {'listing_id': listing_id_array, 'predicted_polarity': pred_user}\n",
    "    user_rec = pd.DataFrame(data=d)\n",
    "    user_rec.sort_values(by=['predicted_polarity'], ascending=False, inplace=True)\n",
    "    user_rec.reset_index(inplace=True, drop=True)\n",
    "    \n",
    "    return user_rec[:N]"
   ]
  },
  {
   "cell_type": "code",
   "execution_count": 38,
   "metadata": {
    "ExecuteTime": {
     "end_time": "2020-04-05T10:53:33.834108Z",
     "start_time": "2020-04-05T10:53:33.767776Z"
    }
   },
   "outputs": [
    {
     "data": {
      "text/html": [
       "<style  type=\"text/css\" >\n",
       "    #T_b1c4364c_772b_11ea_a505_8c8590c39c0arow0_col1 {\n",
       "            width:  10em;\n",
       "             height:  80%;\n",
       "            background:  linear-gradient(90deg,#5fba7d 100.0%, transparent 100.0%);\n",
       "        }    #T_b1c4364c_772b_11ea_a505_8c8590c39c0arow1_col1 {\n",
       "            width:  10em;\n",
       "             height:  80%;\n",
       "            background:  linear-gradient(90deg,#5fba7d 99.7%, transparent 99.7%);\n",
       "        }    #T_b1c4364c_772b_11ea_a505_8c8590c39c0arow2_col1 {\n",
       "            width:  10em;\n",
       "             height:  80%;\n",
       "            background:  linear-gradient(90deg,#5fba7d 99.7%, transparent 99.7%);\n",
       "        }    #T_b1c4364c_772b_11ea_a505_8c8590c39c0arow3_col1 {\n",
       "            width:  10em;\n",
       "             height:  80%;\n",
       "            background:  linear-gradient(90deg,#5fba7d 99.7%, transparent 99.7%);\n",
       "        }    #T_b1c4364c_772b_11ea_a505_8c8590c39c0arow4_col1 {\n",
       "            width:  10em;\n",
       "             height:  80%;\n",
       "            background:  linear-gradient(90deg,#5fba7d 99.7%, transparent 99.7%);\n",
       "        }    #T_b1c4364c_772b_11ea_a505_8c8590c39c0arow5_col1 {\n",
       "            width:  10em;\n",
       "             height:  80%;\n",
       "            background:  linear-gradient(90deg,#5fba7d 99.7%, transparent 99.7%);\n",
       "        }    #T_b1c4364c_772b_11ea_a505_8c8590c39c0arow6_col1 {\n",
       "            width:  10em;\n",
       "             height:  80%;\n",
       "            background:  linear-gradient(90deg,#5fba7d 99.6%, transparent 99.6%);\n",
       "        }    #T_b1c4364c_772b_11ea_a505_8c8590c39c0arow7_col1 {\n",
       "            width:  10em;\n",
       "             height:  80%;\n",
       "            background:  linear-gradient(90deg,#5fba7d 99.6%, transparent 99.6%);\n",
       "        }    #T_b1c4364c_772b_11ea_a505_8c8590c39c0arow8_col1 {\n",
       "            width:  10em;\n",
       "             height:  80%;\n",
       "            background:  linear-gradient(90deg,#5fba7d 99.6%, transparent 99.6%);\n",
       "        }    #T_b1c4364c_772b_11ea_a505_8c8590c39c0arow9_col1 {\n",
       "            width:  10em;\n",
       "             height:  80%;\n",
       "            background:  linear-gradient(90deg,#5fba7d 99.6%, transparent 99.6%);\n",
       "        }</style><table id=\"T_b1c4364c_772b_11ea_a505_8c8590c39c0a\" ><thead>    <tr>        <th class=\"blank level0\" ></th>        <th class=\"col_heading level0 col0\" >listing_id</th>        <th class=\"col_heading level0 col1\" >predicted_polarity</th>    </tr></thead><tbody>\n",
       "                <tr>\n",
       "                        <th id=\"T_b1c4364c_772b_11ea_a505_8c8590c39c0alevel0_row0\" class=\"row_heading level0 row0\" >0</th>\n",
       "                        <td id=\"T_b1c4364c_772b_11ea_a505_8c8590c39c0arow0_col0\" class=\"data row0 col0\" >14813006</td>\n",
       "                        <td id=\"T_b1c4364c_772b_11ea_a505_8c8590c39c0arow0_col1\" class=\"data row0 col1\" >0.995900</td>\n",
       "            </tr>\n",
       "            <tr>\n",
       "                        <th id=\"T_b1c4364c_772b_11ea_a505_8c8590c39c0alevel0_row1\" class=\"row_heading level0 row1\" >1</th>\n",
       "                        <td id=\"T_b1c4364c_772b_11ea_a505_8c8590c39c0arow1_col0\" class=\"data row1 col0\" >12603280</td>\n",
       "                        <td id=\"T_b1c4364c_772b_11ea_a505_8c8590c39c0arow1_col1\" class=\"data row1 col1\" >0.993300</td>\n",
       "            </tr>\n",
       "            <tr>\n",
       "                        <th id=\"T_b1c4364c_772b_11ea_a505_8c8590c39c0alevel0_row2\" class=\"row_heading level0 row2\" >2</th>\n",
       "                        <td id=\"T_b1c4364c_772b_11ea_a505_8c8590c39c0arow2_col0\" class=\"data row2 col0\" >14760739</td>\n",
       "                        <td id=\"T_b1c4364c_772b_11ea_a505_8c8590c39c0arow2_col1\" class=\"data row2 col1\" >0.993300</td>\n",
       "            </tr>\n",
       "            <tr>\n",
       "                        <th id=\"T_b1c4364c_772b_11ea_a505_8c8590c39c0alevel0_row3\" class=\"row_heading level0 row3\" >3</th>\n",
       "                        <td id=\"T_b1c4364c_772b_11ea_a505_8c8590c39c0arow3_col0\" class=\"data row3 col0\" >5584915</td>\n",
       "                        <td id=\"T_b1c4364c_772b_11ea_a505_8c8590c39c0arow3_col1\" class=\"data row3 col1\" >0.992850</td>\n",
       "            </tr>\n",
       "            <tr>\n",
       "                        <th id=\"T_b1c4364c_772b_11ea_a505_8c8590c39c0alevel0_row4\" class=\"row_heading level0 row4\" >4</th>\n",
       "                        <td id=\"T_b1c4364c_772b_11ea_a505_8c8590c39c0arow4_col0\" class=\"data row4 col0\" >8481291</td>\n",
       "                        <td id=\"T_b1c4364c_772b_11ea_a505_8c8590c39c0arow4_col1\" class=\"data row4 col1\" >0.992800</td>\n",
       "            </tr>\n",
       "            <tr>\n",
       "                        <th id=\"T_b1c4364c_772b_11ea_a505_8c8590c39c0alevel0_row5\" class=\"row_heading level0 row5\" >5</th>\n",
       "                        <td id=\"T_b1c4364c_772b_11ea_a505_8c8590c39c0arow5_col0\" class=\"data row5 col0\" >12699603</td>\n",
       "                        <td id=\"T_b1c4364c_772b_11ea_a505_8c8590c39c0arow5_col1\" class=\"data row5 col1\" >0.992800</td>\n",
       "            </tr>\n",
       "            <tr>\n",
       "                        <th id=\"T_b1c4364c_772b_11ea_a505_8c8590c39c0alevel0_row6\" class=\"row_heading level0 row6\" >6</th>\n",
       "                        <td id=\"T_b1c4364c_772b_11ea_a505_8c8590c39c0arow6_col0\" class=\"data row6 col0\" >13655073</td>\n",
       "                        <td id=\"T_b1c4364c_772b_11ea_a505_8c8590c39c0arow6_col1\" class=\"data row6 col1\" >0.992100</td>\n",
       "            </tr>\n",
       "            <tr>\n",
       "                        <th id=\"T_b1c4364c_772b_11ea_a505_8c8590c39c0alevel0_row7\" class=\"row_heading level0 row7\" >7</th>\n",
       "                        <td id=\"T_b1c4364c_772b_11ea_a505_8c8590c39c0arow7_col0\" class=\"data row7 col0\" >14220964</td>\n",
       "                        <td id=\"T_b1c4364c_772b_11ea_a505_8c8590c39c0arow7_col1\" class=\"data row7 col1\" >0.991700</td>\n",
       "            </tr>\n",
       "            <tr>\n",
       "                        <th id=\"T_b1c4364c_772b_11ea_a505_8c8590c39c0alevel0_row8\" class=\"row_heading level0 row8\" >8</th>\n",
       "                        <td id=\"T_b1c4364c_772b_11ea_a505_8c8590c39c0arow8_col0\" class=\"data row8 col0\" >7841193</td>\n",
       "                        <td id=\"T_b1c4364c_772b_11ea_a505_8c8590c39c0arow8_col1\" class=\"data row8 col1\" >0.991700</td>\n",
       "            </tr>\n",
       "            <tr>\n",
       "                        <th id=\"T_b1c4364c_772b_11ea_a505_8c8590c39c0alevel0_row9\" class=\"row_heading level0 row9\" >9</th>\n",
       "                        <td id=\"T_b1c4364c_772b_11ea_a505_8c8590c39c0arow9_col0\" class=\"data row9 col0\" >5719606</td>\n",
       "                        <td id=\"T_b1c4364c_772b_11ea_a505_8c8590c39c0arow9_col1\" class=\"data row9 col1\" >0.991700</td>\n",
       "            </tr>\n",
       "    </tbody></table>"
      ],
      "text/plain": [
       "<pandas.io.formats.style.Styler at 0x124aa2990>"
      ]
     },
     "execution_count": 38,
     "metadata": {},
     "output_type": "execute_result"
    }
   ],
   "source": [
    "# using mat from SVD method\n",
    "\n",
    "user_rec = get_recommendations(svdout, df_rec['reviewer_id'][0], 10)\n",
    "user_rec.style.bar(subset=['predicted_polarity'], align='mid', color=['#d65f5f', '#5fba7d'])"
   ]
  },
  {
   "cell_type": "code",
   "execution_count": null,
   "metadata": {},
   "outputs": [],
   "source": []
  }
 ],
 "metadata": {
  "kernelspec": {
   "display_name": "Python 3",
   "language": "python",
   "name": "python3"
  },
  "language_info": {
   "codemirror_mode": {
    "name": "ipython",
    "version": 3
   },
   "file_extension": ".py",
   "mimetype": "text/x-python",
   "name": "python",
   "nbconvert_exporter": "python",
   "pygments_lexer": "ipython3",
   "version": "3.7.7"
  },
  "toc": {
   "base_numbering": 1,
   "nav_menu": {},
   "number_sections": true,
   "sideBar": true,
   "skip_h1_title": false,
   "title_cell": "Table of Contents",
   "title_sidebar": "Contents",
   "toc_cell": false,
   "toc_position": {},
   "toc_section_display": true,
   "toc_window_display": false
  },
  "varInspector": {
   "cols": {
    "lenName": 16,
    "lenType": 16,
    "lenVar": 40
   },
   "kernels_config": {
    "python": {
     "delete_cmd_postfix": "",
     "delete_cmd_prefix": "del ",
     "library": "var_list.py",
     "varRefreshCmd": "print(var_dic_list())"
    },
    "r": {
     "delete_cmd_postfix": ") ",
     "delete_cmd_prefix": "rm(",
     "library": "var_list.r",
     "varRefreshCmd": "cat(var_dic_list()) "
    }
   },
   "types_to_exclude": [
    "module",
    "function",
    "builtin_function_or_method",
    "instance",
    "_Feature"
   ],
   "window_display": false
  }
 },
 "nbformat": 4,
 "nbformat_minor": 4
}
