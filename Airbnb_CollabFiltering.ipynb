{
 "cells": [
  {
   "cell_type": "code",
   "execution_count": 1,
   "metadata": {
    "ExecuteTime": {
     "end_time": "2020-04-04T22:36:32.476326Z",
     "start_time": "2020-04-04T22:36:30.111121Z"
    }
   },
   "outputs": [],
   "source": [
    "import numpy as np\n",
    "import pandas as pd\n",
    "import matplotlib.pyplot as plt\n",
    "from collections import Counter\n",
    "from scipy import stats\n",
    "import seaborn as sns\n",
    "from scipy.linalg import sqrtm\n",
    "from sklearn.metrics import mean_squared_error\n",
    "from math import sqrt"
   ]
  },
  {
   "cell_type": "markdown",
   "metadata": {},
   "source": [
    "# Load data"
   ]
  },
  {
   "cell_type": "code",
   "execution_count": 3,
   "metadata": {
    "ExecuteTime": {
     "end_time": "2020-04-05T09:31:14.674892Z",
     "start_time": "2020-04-05T09:31:14.053971Z"
    }
   },
   "outputs": [
    {
     "data": {
      "text/html": [
       "<div>\n",
       "<style scoped>\n",
       "    .dataframe tbody tr th:only-of-type {\n",
       "        vertical-align: middle;\n",
       "    }\n",
       "\n",
       "    .dataframe tbody tr th {\n",
       "        vertical-align: top;\n",
       "    }\n",
       "\n",
       "    .dataframe thead th {\n",
       "        text-align: right;\n",
       "    }\n",
       "</style>\n",
       "<table border=\"1\" class=\"dataframe\">\n",
       "  <thead>\n",
       "    <tr style=\"text-align: right;\">\n",
       "      <th></th>\n",
       "      <th>listing_id</th>\n",
       "      <th>id</th>\n",
       "      <th>date</th>\n",
       "      <th>reviewer_id</th>\n",
       "      <th>reviewer_name</th>\n",
       "      <th>comments</th>\n",
       "      <th>language</th>\n",
       "      <th>polarity</th>\n",
       "    </tr>\n",
       "  </thead>\n",
       "  <tbody>\n",
       "    <tr>\n",
       "      <th>0</th>\n",
       "      <td>1178162</td>\n",
       "      <td>4724140</td>\n",
       "      <td>2013-05-21</td>\n",
       "      <td>4298113</td>\n",
       "      <td>Olivier</td>\n",
       "      <td>My stay at islam's place was really cool! Good...</td>\n",
       "      <td>en</td>\n",
       "      <td>0.9626</td>\n",
       "    </tr>\n",
       "    <tr>\n",
       "      <th>1</th>\n",
       "      <td>1178162</td>\n",
       "      <td>4869189</td>\n",
       "      <td>2013-05-29</td>\n",
       "      <td>6452964</td>\n",
       "      <td>Charlotte</td>\n",
       "      <td>Great location for both airport and city - gre...</td>\n",
       "      <td>en</td>\n",
       "      <td>0.9061</td>\n",
       "    </tr>\n",
       "    <tr>\n",
       "      <th>2</th>\n",
       "      <td>1178162</td>\n",
       "      <td>5003196</td>\n",
       "      <td>2013-06-06</td>\n",
       "      <td>6449554</td>\n",
       "      <td>Sebastian</td>\n",
       "      <td>We really enjoyed our stay at Islams house. Fr...</td>\n",
       "      <td>en</td>\n",
       "      <td>0.9663</td>\n",
       "    </tr>\n",
       "    <tr>\n",
       "      <th>3</th>\n",
       "      <td>1178162</td>\n",
       "      <td>5150351</td>\n",
       "      <td>2013-06-15</td>\n",
       "      <td>2215611</td>\n",
       "      <td>Marine</td>\n",
       "      <td>The room was nice and clean and so were the co...</td>\n",
       "      <td>en</td>\n",
       "      <td>0.9267</td>\n",
       "    </tr>\n",
       "    <tr>\n",
       "      <th>4</th>\n",
       "      <td>1178162</td>\n",
       "      <td>5171140</td>\n",
       "      <td>2013-06-16</td>\n",
       "      <td>6848427</td>\n",
       "      <td>Andrew</td>\n",
       "      <td>Great location. Just   mins walk from the Airp...</td>\n",
       "      <td>en</td>\n",
       "      <td>0.8658</td>\n",
       "    </tr>\n",
       "  </tbody>\n",
       "</table>\n",
       "</div>"
      ],
      "text/plain": [
       "   listing_id       id        date  reviewer_id reviewer_name  \\\n",
       "0     1178162  4724140  2013-05-21      4298113       Olivier   \n",
       "1     1178162  4869189  2013-05-29      6452964     Charlotte   \n",
       "2     1178162  5003196  2013-06-06      6449554     Sebastian   \n",
       "3     1178162  5150351  2013-06-15      2215611        Marine   \n",
       "4     1178162  5171140  2013-06-16      6848427        Andrew   \n",
       "\n",
       "                                            comments language  polarity  \n",
       "0  My stay at islam's place was really cool! Good...       en    0.9626  \n",
       "1  Great location for both airport and city - gre...       en    0.9061  \n",
       "2  We really enjoyed our stay at Islams house. Fr...       en    0.9663  \n",
       "3  The room was nice and clean and so were the co...       en    0.9267  \n",
       "4  Great location. Just   mins walk from the Airp...       en    0.8658  "
      ]
     },
     "execution_count": 3,
     "metadata": {},
     "output_type": "execute_result"
    }
   ],
   "source": [
    "reviews = pd.read_csv('reviews_en_polarity.csv')\n",
    "reviews.head()"
   ]
  },
  {
   "cell_type": "code",
   "execution_count": 4,
   "metadata": {
    "ExecuteTime": {
     "end_time": "2020-04-05T09:31:17.671668Z",
     "start_time": "2020-04-05T09:31:17.648726Z"
    }
   },
   "outputs": [],
   "source": [
    "df_rec = reviews[['reviewer_id', 'listing_id', 'polarity']]"
   ]
  },
  {
   "cell_type": "code",
   "execution_count": 5,
   "metadata": {
    "ExecuteTime": {
     "end_time": "2020-04-04T22:01:16.270533Z",
     "start_time": "2020-04-04T22:01:16.243462Z"
    }
   },
   "outputs": [
    {
     "data": {
      "text/plain": [
       "reviewer_id    59623\n",
       "listing_id      2756\n",
       "polarity        4631\n",
       "dtype: int64"
      ]
     },
     "execution_count": 5,
     "metadata": {},
     "output_type": "execute_result"
    }
   ],
   "source": [
    "df_rec.nunique()"
   ]
  },
  {
   "cell_type": "code",
   "execution_count": 8,
   "metadata": {
    "ExecuteTime": {
     "end_time": "2020-04-04T22:02:53.007223Z",
     "start_time": "2020-04-04T22:02:52.988835Z"
    }
   },
   "outputs": [
    {
     "data": {
      "text/html": [
       "<div>\n",
       "<style scoped>\n",
       "    .dataframe tbody tr th:only-of-type {\n",
       "        vertical-align: middle;\n",
       "    }\n",
       "\n",
       "    .dataframe tbody tr th {\n",
       "        vertical-align: top;\n",
       "    }\n",
       "\n",
       "    .dataframe thead th {\n",
       "        text-align: right;\n",
       "    }\n",
       "</style>\n",
       "<table border=\"1\" class=\"dataframe\">\n",
       "  <thead>\n",
       "    <tr style=\"text-align: right;\">\n",
       "      <th></th>\n",
       "      <th>reviewer_id</th>\n",
       "      <th>listing_id</th>\n",
       "      <th>polarity</th>\n",
       "    </tr>\n",
       "  </thead>\n",
       "  <tbody>\n",
       "    <tr>\n",
       "      <th>0</th>\n",
       "      <td>4298113</td>\n",
       "      <td>1178162</td>\n",
       "      <td>0.9626</td>\n",
       "    </tr>\n",
       "    <tr>\n",
       "      <th>1</th>\n",
       "      <td>6452964</td>\n",
       "      <td>1178162</td>\n",
       "      <td>0.9061</td>\n",
       "    </tr>\n",
       "    <tr>\n",
       "      <th>2</th>\n",
       "      <td>6449554</td>\n",
       "      <td>1178162</td>\n",
       "      <td>0.9663</td>\n",
       "    </tr>\n",
       "    <tr>\n",
       "      <th>3</th>\n",
       "      <td>2215611</td>\n",
       "      <td>1178162</td>\n",
       "      <td>0.9267</td>\n",
       "    </tr>\n",
       "    <tr>\n",
       "      <th>4</th>\n",
       "      <td>6848427</td>\n",
       "      <td>1178162</td>\n",
       "      <td>0.8658</td>\n",
       "    </tr>\n",
       "    <tr>\n",
       "      <th>...</th>\n",
       "      <td>...</td>\n",
       "      <td>...</td>\n",
       "      <td>...</td>\n",
       "    </tr>\n",
       "    <tr>\n",
       "      <th>63738</th>\n",
       "      <td>66618882</td>\n",
       "      <td>7462268</td>\n",
       "      <td>0.8955</td>\n",
       "    </tr>\n",
       "    <tr>\n",
       "      <th>63739</th>\n",
       "      <td>40052513</td>\n",
       "      <td>7462268</td>\n",
       "      <td>0.9504</td>\n",
       "    </tr>\n",
       "    <tr>\n",
       "      <th>63740</th>\n",
       "      <td>77129134</td>\n",
       "      <td>7462268</td>\n",
       "      <td>0.9693</td>\n",
       "    </tr>\n",
       "    <tr>\n",
       "      <th>63741</th>\n",
       "      <td>15799803</td>\n",
       "      <td>7462268</td>\n",
       "      <td>0.9957</td>\n",
       "    </tr>\n",
       "    <tr>\n",
       "      <th>63742</th>\n",
       "      <td>90128094</td>\n",
       "      <td>7462268</td>\n",
       "      <td>0.7564</td>\n",
       "    </tr>\n",
       "  </tbody>\n",
       "</table>\n",
       "<p>63743 rows × 3 columns</p>\n",
       "</div>"
      ],
      "text/plain": [
       "       reviewer_id  listing_id  polarity\n",
       "0          4298113     1178162    0.9626\n",
       "1          6452964     1178162    0.9061\n",
       "2          6449554     1178162    0.9663\n",
       "3          2215611     1178162    0.9267\n",
       "4          6848427     1178162    0.8658\n",
       "...            ...         ...       ...\n",
       "63738     66618882     7462268    0.8955\n",
       "63739     40052513     7462268    0.9504\n",
       "63740     77129134     7462268    0.9693\n",
       "63741     15799803     7462268    0.9957\n",
       "63742     90128094     7462268    0.7564\n",
       "\n",
       "[63743 rows x 3 columns]"
      ]
     },
     "execution_count": 8,
     "metadata": {},
     "output_type": "execute_result"
    }
   ],
   "source": [
    "df_rec"
   ]
  },
  {
   "cell_type": "markdown",
   "metadata": {},
   "source": [
    "# Build recommendation engine"
   ]
  },
  {
   "cell_type": "code",
   "execution_count": 5,
   "metadata": {
    "ExecuteTime": {
     "end_time": "2020-04-05T09:31:29.114291Z",
     "start_time": "2020-04-05T09:31:22.189643Z"
    }
   },
   "outputs": [
    {
     "data": {
      "text/html": [
       "<div>\n",
       "<style scoped>\n",
       "    .dataframe tbody tr th:only-of-type {\n",
       "        vertical-align: middle;\n",
       "    }\n",
       "\n",
       "    .dataframe tbody tr th {\n",
       "        vertical-align: top;\n",
       "    }\n",
       "\n",
       "    .dataframe thead th {\n",
       "        text-align: right;\n",
       "    }\n",
       "</style>\n",
       "<table border=\"1\" class=\"dataframe\">\n",
       "  <thead>\n",
       "    <tr style=\"text-align: right;\">\n",
       "      <th>listing_id</th>\n",
       "      <th>3353</th>\n",
       "      <th>5506</th>\n",
       "      <th>6695</th>\n",
       "      <th>6976</th>\n",
       "      <th>8792</th>\n",
       "      <th>9273</th>\n",
       "      <th>9765</th>\n",
       "      <th>9824</th>\n",
       "      <th>9855</th>\n",
       "      <th>9857</th>\n",
       "      <th>...</th>\n",
       "      <th>14770708</th>\n",
       "      <th>14770892</th>\n",
       "      <th>14774426</th>\n",
       "      <th>14774868</th>\n",
       "      <th>14778561</th>\n",
       "      <th>14780153</th>\n",
       "      <th>14813006</th>\n",
       "      <th>14823724</th>\n",
       "      <th>14843050</th>\n",
       "      <th>14843783</th>\n",
       "    </tr>\n",
       "    <tr>\n",
       "      <th>reviewer_id</th>\n",
       "      <th></th>\n",
       "      <th></th>\n",
       "      <th></th>\n",
       "      <th></th>\n",
       "      <th></th>\n",
       "      <th></th>\n",
       "      <th></th>\n",
       "      <th></th>\n",
       "      <th></th>\n",
       "      <th></th>\n",
       "      <th></th>\n",
       "      <th></th>\n",
       "      <th></th>\n",
       "      <th></th>\n",
       "      <th></th>\n",
       "      <th></th>\n",
       "      <th></th>\n",
       "      <th></th>\n",
       "      <th></th>\n",
       "      <th></th>\n",
       "      <th></th>\n",
       "    </tr>\n",
       "  </thead>\n",
       "  <tbody>\n",
       "    <tr>\n",
       "      <th>143</th>\n",
       "      <td>NaN</td>\n",
       "      <td>NaN</td>\n",
       "      <td>NaN</td>\n",
       "      <td>NaN</td>\n",
       "      <td>NaN</td>\n",
       "      <td>NaN</td>\n",
       "      <td>NaN</td>\n",
       "      <td>NaN</td>\n",
       "      <td>NaN</td>\n",
       "      <td>NaN</td>\n",
       "      <td>...</td>\n",
       "      <td>NaN</td>\n",
       "      <td>NaN</td>\n",
       "      <td>NaN</td>\n",
       "      <td>NaN</td>\n",
       "      <td>NaN</td>\n",
       "      <td>NaN</td>\n",
       "      <td>NaN</td>\n",
       "      <td>NaN</td>\n",
       "      <td>NaN</td>\n",
       "      <td>NaN</td>\n",
       "    </tr>\n",
       "    <tr>\n",
       "      <th>322</th>\n",
       "      <td>NaN</td>\n",
       "      <td>NaN</td>\n",
       "      <td>NaN</td>\n",
       "      <td>NaN</td>\n",
       "      <td>NaN</td>\n",
       "      <td>NaN</td>\n",
       "      <td>NaN</td>\n",
       "      <td>NaN</td>\n",
       "      <td>NaN</td>\n",
       "      <td>NaN</td>\n",
       "      <td>...</td>\n",
       "      <td>NaN</td>\n",
       "      <td>NaN</td>\n",
       "      <td>NaN</td>\n",
       "      <td>NaN</td>\n",
       "      <td>NaN</td>\n",
       "      <td>NaN</td>\n",
       "      <td>NaN</td>\n",
       "      <td>NaN</td>\n",
       "      <td>NaN</td>\n",
       "      <td>NaN</td>\n",
       "    </tr>\n",
       "    <tr>\n",
       "      <th>933</th>\n",
       "      <td>NaN</td>\n",
       "      <td>NaN</td>\n",
       "      <td>NaN</td>\n",
       "      <td>NaN</td>\n",
       "      <td>NaN</td>\n",
       "      <td>NaN</td>\n",
       "      <td>NaN</td>\n",
       "      <td>NaN</td>\n",
       "      <td>NaN</td>\n",
       "      <td>NaN</td>\n",
       "      <td>...</td>\n",
       "      <td>NaN</td>\n",
       "      <td>NaN</td>\n",
       "      <td>NaN</td>\n",
       "      <td>NaN</td>\n",
       "      <td>NaN</td>\n",
       "      <td>NaN</td>\n",
       "      <td>NaN</td>\n",
       "      <td>NaN</td>\n",
       "      <td>NaN</td>\n",
       "      <td>NaN</td>\n",
       "    </tr>\n",
       "    <tr>\n",
       "      <th>1960</th>\n",
       "      <td>NaN</td>\n",
       "      <td>NaN</td>\n",
       "      <td>NaN</td>\n",
       "      <td>NaN</td>\n",
       "      <td>NaN</td>\n",
       "      <td>NaN</td>\n",
       "      <td>NaN</td>\n",
       "      <td>NaN</td>\n",
       "      <td>NaN</td>\n",
       "      <td>NaN</td>\n",
       "      <td>...</td>\n",
       "      <td>NaN</td>\n",
       "      <td>NaN</td>\n",
       "      <td>NaN</td>\n",
       "      <td>NaN</td>\n",
       "      <td>NaN</td>\n",
       "      <td>NaN</td>\n",
       "      <td>NaN</td>\n",
       "      <td>NaN</td>\n",
       "      <td>NaN</td>\n",
       "      <td>NaN</td>\n",
       "    </tr>\n",
       "    <tr>\n",
       "      <th>2237</th>\n",
       "      <td>NaN</td>\n",
       "      <td>NaN</td>\n",
       "      <td>NaN</td>\n",
       "      <td>NaN</td>\n",
       "      <td>NaN</td>\n",
       "      <td>NaN</td>\n",
       "      <td>NaN</td>\n",
       "      <td>NaN</td>\n",
       "      <td>NaN</td>\n",
       "      <td>NaN</td>\n",
       "      <td>...</td>\n",
       "      <td>NaN</td>\n",
       "      <td>NaN</td>\n",
       "      <td>NaN</td>\n",
       "      <td>NaN</td>\n",
       "      <td>NaN</td>\n",
       "      <td>NaN</td>\n",
       "      <td>NaN</td>\n",
       "      <td>NaN</td>\n",
       "      <td>NaN</td>\n",
       "      <td>NaN</td>\n",
       "    </tr>\n",
       "  </tbody>\n",
       "</table>\n",
       "<p>5 rows × 2756 columns</p>\n",
       "</div>"
      ],
      "text/plain": [
       "listing_id   3353      5506      6695      6976      8792      9273      \\\n",
       "reviewer_id                                                               \n",
       "143               NaN       NaN       NaN       NaN       NaN       NaN   \n",
       "322               NaN       NaN       NaN       NaN       NaN       NaN   \n",
       "933               NaN       NaN       NaN       NaN       NaN       NaN   \n",
       "1960              NaN       NaN       NaN       NaN       NaN       NaN   \n",
       "2237              NaN       NaN       NaN       NaN       NaN       NaN   \n",
       "\n",
       "listing_id   9765      9824      9855      9857      ...  14770708  14770892  \\\n",
       "reviewer_id                                          ...                       \n",
       "143               NaN       NaN       NaN       NaN  ...       NaN       NaN   \n",
       "322               NaN       NaN       NaN       NaN  ...       NaN       NaN   \n",
       "933               NaN       NaN       NaN       NaN  ...       NaN       NaN   \n",
       "1960              NaN       NaN       NaN       NaN  ...       NaN       NaN   \n",
       "2237              NaN       NaN       NaN       NaN  ...       NaN       NaN   \n",
       "\n",
       "listing_id   14774426  14774868  14778561  14780153  14813006  14823724  \\\n",
       "reviewer_id                                                               \n",
       "143               NaN       NaN       NaN       NaN       NaN       NaN   \n",
       "322               NaN       NaN       NaN       NaN       NaN       NaN   \n",
       "933               NaN       NaN       NaN       NaN       NaN       NaN   \n",
       "1960              NaN       NaN       NaN       NaN       NaN       NaN   \n",
       "2237              NaN       NaN       NaN       NaN       NaN       NaN   \n",
       "\n",
       "listing_id   14843050  14843783  \n",
       "reviewer_id                      \n",
       "143               NaN       NaN  \n",
       "322               NaN       NaN  \n",
       "933               NaN       NaN  \n",
       "1960              NaN       NaN  \n",
       "2237              NaN       NaN  \n",
       "\n",
       "[5 rows x 2756 columns]"
      ]
     },
     "execution_count": 5,
     "metadata": {},
     "output_type": "execute_result"
    }
   ],
   "source": [
    "# create utility matrix\n",
    "\n",
    "matrix = df_rec.pivot_table(index='reviewer_id', columns='listing_id', values='polarity')\n",
    "matrix.head()"
   ]
  },
  {
   "cell_type": "code",
   "execution_count": 6,
   "metadata": {
    "ExecuteTime": {
     "end_time": "2020-04-05T09:31:43.853284Z",
     "start_time": "2020-04-05T09:31:43.825318Z"
    }
   },
   "outputs": [],
   "source": [
    "# keep track of reviewers (users) and listings (items)\n",
    "\n",
    "userrows = list(matrix.index)\n",
    "users_index = {userrows[i]: i for i in range(len(userrows))}\n",
    "\n",
    "itemcols = list(matrix.columns)\n",
    "items_index = {itemcols[i]: i for i in range(len(itemcols))}"
   ]
  },
  {
   "cell_type": "code",
   "execution_count": 7,
   "metadata": {
    "ExecuteTime": {
     "end_time": "2020-04-05T09:31:45.557283Z",
     "start_time": "2020-04-05T09:31:45.540119Z"
    }
   },
   "outputs": [],
   "source": [
    "# build our SVD model, returns predicted polarity values for (user,item) pairs\n",
    "\n",
    "def svd(train, k):\n",
    "    \"\"\"\n",
    "    train: utility matrix of training data\n",
    "    k: number of features to use from Sigma matrix\n",
    "    \"\"\"\n",
    "    utilMat = np.array(train)\n",
    "    \n",
    "    # the nan or unavailable entries are masked\n",
    "    mask = np.isnan(utilMat)\n",
    "    masked_arr = np.ma.masked_array(utilMat, mask)\n",
    "    item_means = np.mean(masked_arr, axis=0)\n",
    "    \n",
    "    # nan entries will replaced by the average rating for each item\n",
    "    utilMat = masked_arr.filled(item_means)\n",
    "    x = np.tile(item_means, (utilMat.shape[0],1))\n",
    "    \n",
    "    # we remove the per item average from all entries.\n",
    "    # the above mentioned nan entries will be essentially zero now\n",
    "    utilMat = utilMat - x\n",
    "    \n",
    "    # The magic happens here. U and V are user and item features\n",
    "    U, s, V=np.linalg.svd(utilMat, full_matrices=False)\n",
    "    \n",
    "    s=np.diag(s)\n",
    "    \n",
    "    # we take only the k most significant features\n",
    "    s=s[0:k,0:k]\n",
    "    U=U[:,0:k]\n",
    "    V=V[0:k,:]\n",
    "    \n",
    "    s_root=sqrtm(s)\n",
    "    Usk=np.dot(U,s_root)\n",
    "    skV=np.dot(s_root,V)\n",
    "    UsV = np.dot(Usk, skV)\n",
    "    UsV = UsV + x\n",
    "    \n",
    "    # usv: predicted matrix fact\n",
    "    \n",
    "    print(\"svd done\")\n",
    "    return UsV"
   ]
  },
  {
   "cell_type": "code",
   "execution_count": null,
   "metadata": {},
   "outputs": [],
   "source": [
    "# alternative:\n",
    "from scipy.sparse.linalg import svds\n",
    "\n",
    "U, sigma, Vt = svds(R_demeaned, k = 50) #have to remove per item mean from all entries in utilMat\n",
    "\n",
    "# that the Sigma$ returned is just the values instead of a diagonal matrix. \n",
    "# This is useful, but since I'm going to leverage matrix multiplication to get predictions \n",
    "# I'll convert it to the diagonal matrix form.\n",
    "sigma = np.diag(sigma)\n",
    "all_user_predicted_ratings = np.dot(np.dot(U, sigma), Vt) + user_ratings_mean.reshape(-1, 1)\n",
    "\n",
    "# https://heartbeat.fritz.ai/recommender-systems-with-python-part-iii-collaborative-filtering-singular-value-decomposition-5b5dcb3f242b"
   ]
  },
  {
   "cell_type": "code",
   "execution_count": 12,
   "metadata": {
    "ExecuteTime": {
     "end_time": "2020-04-04T22:07:54.155472Z",
     "start_time": "2020-04-04T22:05:57.751880Z"
    }
   },
   "outputs": [
    {
     "name": "stdout",
     "output_type": "stream",
     "text": [
      "svd done\n"
     ]
    }
   ],
   "source": [
    "#no_of_features = [8,10,12,14,17]\n",
    "\n",
    "#for k in no_of_features:\n",
    "\n",
    "svdout = svd(matrix, k=8)"
   ]
  },
  {
   "cell_type": "code",
   "execution_count": 13,
   "metadata": {
    "ExecuteTime": {
     "end_time": "2020-04-04T22:08:21.341573Z",
     "start_time": "2020-04-04T22:08:10.948881Z"
    }
   },
   "outputs": [],
   "source": [
    "pred = [] #to store the predicted ratings\n",
    "for i, row in df_rec.iterrows():\n",
    "    user = row['reviewer_id']\n",
    "    item = row['listing_id']\n",
    "    \n",
    "    try:\n",
    "        u_index = users_index[user]\n",
    "        if item in items_index:\n",
    "            i_index = items_index[item]\n",
    "            pred_rating = svdout[u_index, i_index]\n",
    "        else:\n",
    "            pred_rating = np.mean(svdout[u_index, :])\n",
    "        pred.append(pred_rating)\n",
    "        \n",
    "    except:\n",
    "        print('error with user', user, 'at index', i)"
   ]
  },
  {
   "cell_type": "code",
   "execution_count": 15,
   "metadata": {
    "ExecuteTime": {
     "end_time": "2020-04-04T22:10:57.549020Z",
     "start_time": "2020-04-04T22:10:57.531899Z"
    }
   },
   "outputs": [
    {
     "name": "stdout",
     "output_type": "stream",
     "text": [
      "0.21339783653166997\n"
     ]
    }
   ],
   "source": [
    "rmse = sqrt(mean_squared_error(df_rec['polarity'], pred))\n",
    "print(rmse)"
   ]
  },
  {
   "cell_type": "markdown",
   "metadata": {},
   "source": [
    "**Hyperparam optimization**: `k`, the number of features into which each user and movie will be resolved into"
   ]
  },
  {
   "cell_type": "markdown",
   "metadata": {},
   "source": [
    "Train SVD on a training set (utility matrix) and predict on testing set. Problem is how to split it, ie test data can't have unseen users or listings (cold start), also harder the less observations there are of a particular reviewer/listing."
   ]
  },
  {
   "cell_type": "code",
   "execution_count": 39,
   "metadata": {
    "ExecuteTime": {
     "end_time": "2020-04-05T11:55:47.109724Z",
     "start_time": "2020-04-05T11:44:37.577712Z"
    }
   },
   "outputs": [
    {
     "name": "stdout",
     "output_type": "stream",
     "text": [
      "svd done\n",
      "70 0.18237034891641787\n",
      "svd done\n",
      "100 0.17276148855751566\n",
      "svd done\n",
      "120 0.1674806007852554\n",
      "svd done\n",
      "150 0.15999950624744558\n"
     ]
    }
   ],
   "source": [
    "# try more features\n",
    "\n",
    "no_of_features = [70, 100, 120, 150]\n",
    "rmse= []\n",
    "\n",
    "for k in no_of_features:\n",
    "    svdout = svd(matrix, k=k)\n",
    "    \n",
    "    pred = [] #to store the predicted ratings\n",
    "    for i, row in df_rec.iterrows():\n",
    "        user = row['reviewer_id']\n",
    "        item = row['listing_id']\n",
    "\n",
    "        try:\n",
    "            u_index = users_index[user]\n",
    "            if item in items_index:\n",
    "                i_index = items_index[item]\n",
    "                pred_rating = svdout[u_index, i_index]\n",
    "            else:\n",
    "                pred_rating = np.mean(svdout[u_index, :])\n",
    "            pred.append(pred_rating)\n",
    "\n",
    "        except:\n",
    "            print('error with user', user, 'at index', i)\n",
    "\n",
    "    rmse_i = sqrt(mean_squared_error(df_rec['polarity'], pred))\n",
    "    rmse.append(rmse_i)\n",
    "    \n",
    "    print(k, rmse_i)"
   ]
  },
  {
   "cell_type": "markdown",
   "metadata": {},
   "source": [
    "Ideally would cross-validate it against a separated subset of the data to check performance, but can't handle new data (ex new listings or users) so tbd"
   ]
  },
  {
   "cell_type": "code",
   "execution_count": 40,
   "metadata": {
    "ExecuteTime": {
     "end_time": "2020-04-05T11:57:32.640540Z",
     "start_time": "2020-04-05T11:57:32.083173Z"
    }
   },
   "outputs": [
    {
     "data": {
      "image/png": "[encoded data removed]",
      "text/plain": [
       "<Figure size 432x288 with 1 Axes>"
      ]
     },
     "metadata": {
      "needs_background": "light"
     },
     "output_type": "display_data"
    }
   ],
   "source": [
    "plt.scatter(no_of_features, rmse);"
   ]
  },
  {
   "cell_type": "markdown",
   "metadata": {},
   "source": [
    "# Get top recommendations for a user"
   ]
  },
  {
   "cell_type": "code",
   "execution_count": 36,
   "metadata": {
    "ExecuteTime": {
     "end_time": "2020-04-05T10:53:14.824582Z",
     "start_time": "2020-04-05T10:53:14.816326Z"
    }
   },
   "outputs": [],
   "source": [
    "listing_id_array = df_rec['listing_id'].unique()\n",
    "\n",
    "def get_recommendations(predMat, reviewer, N):\n",
    "    \"\"\"\n",
    "    predMat: predicted matrix, svdout\n",
    "    reviewer: selected reviewer_id\n",
    "    N: top N recommendations\n",
    "    \n",
    "    return top N recommendations for specified user\n",
    "    \"\"\"\n",
    "    user = df_rec['reviewer_id'][0]\n",
    "    u_index = users_index[user]\n",
    "    item_i = [items_index[listing_id_array[i]] for i in range(len(listing_id_array))]\n",
    "    \n",
    "    pred_user = [svdout[u_index, i_index] for i_index in item_i]\n",
    "    \n",
    "    d = {'listing_id': listing_id_array, 'predicted_polarity': pred_user}\n",
    "    user_rec = pd.DataFrame(data=d)\n",
    "    user_rec.sort_values(by=['predicted_polarity'], ascending=False, inplace=True)\n",
    "    user_rec.reset_index(inplace=True, drop=True)\n",
    "    \n",
    "    return user_rec[:N]"
   ]
  },
  {
   "cell_type": "code",
   "execution_count": 38,
   "metadata": {
    "ExecuteTime": {
     "end_time": "2020-04-05T10:53:33.834108Z",
     "start_time": "2020-04-05T10:53:33.767776Z"
    }
   },
   "outputs": [
    {
     "data": {
      "text/html": [
       "<style  type=\"text/css\" >\n",
       "    #T_b1c4364c_772b_11ea_a505_8c8590c39c0arow0_col1 {\n",
       "            width:  10em;\n",
       "             height:  80%;\n",
       "            background:  linear-gradient(90deg,#5fba7d 100.0%, transparent 100.0%);\n",
       "        }    #T_b1c4364c_772b_11ea_a505_8c8590c39c0arow1_col1 {\n",
       "            width:  10em;\n",
       "             height:  80%;\n",
       "            background:  linear-gradient(90deg,#5fba7d 99.7%, transparent 99.7%);\n",
       "        }    #T_b1c4364c_772b_11ea_a505_8c8590c39c0arow2_col1 {\n",
       "            width:  10em;\n",
       "             height:  80%;\n",
       "            background:  linear-gradient(90deg,#5fba7d 99.7%, transparent 99.7%);\n",
       "        }    #T_b1c4364c_772b_11ea_a505_8c8590c39c0arow3_col1 {\n",
       "            width:  10em;\n",
       "             height:  80%;\n",
       "            background:  linear-gradient(90deg,#5fba7d 99.7%, transparent 99.7%);\n",
       "        }    #T_b1c4364c_772b_11ea_a505_8c8590c39c0arow4_col1 {\n",
       "            width:  10em;\n",
       "             height:  80%;\n",
       "            background:  linear-gradient(90deg,#5fba7d 99.7%, transparent 99.7%);\n",
       "        }    #T_b1c4364c_772b_11ea_a505_8c8590c39c0arow5_col1 {\n",
       "            width:  10em;\n",
       "             height:  80%;\n",
       "            background:  linear-gradient(90deg,#5fba7d 99.7%, transparent 99.7%);\n",
       "        }    #T_b1c4364c_772b_11ea_a505_8c8590c39c0arow6_col1 {\n",
       "            width:  10em;\n",
       "             height:  80%;\n",
       "            background:  linear-gradient(90deg,#5fba7d 99.6%, transparent 99.6%);\n",
       "        }    #T_b1c4364c_772b_11ea_a505_8c8590c39c0arow7_col1 {\n",
       "            width:  10em;\n",
       "             height:  80%;\n",
       "            background:  linear-gradient(90deg,#5fba7d 99.6%, transparent 99.6%);\n",
       "        }    #T_b1c4364c_772b_11ea_a505_8c8590c39c0arow8_col1 {\n",
       "            width:  10em;\n",
       "             height:  80%;\n",
       "            background:  linear-gradient(90deg,#5fba7d 99.6%, transparent 99.6%);\n",
       "        }    #T_b1c4364c_772b_11ea_a505_8c8590c39c0arow9_col1 {\n",
       "            width:  10em;\n",
       "             height:  80%;\n",
       "            background:  linear-gradient(90deg,#5fba7d 99.6%, transparent 99.6%);\n",
       "        }</style><table id=\"T_b1c4364c_772b_11ea_a505_8c8590c39c0a\" ><thead>    <tr>        <th class=\"blank level0\" ></th>        <th class=\"col_heading level0 col0\" >listing_id</th>        <th class=\"col_heading level0 col1\" >predicted_polarity</th>    </tr></thead><tbody>\n",
       "                <tr>\n",
       "                        <th id=\"T_b1c4364c_772b_11ea_a505_8c8590c39c0alevel0_row0\" class=\"row_heading level0 row0\" >0</th>\n",
       "                        <td id=\"T_b1c4364c_772b_11ea_a505_8c8590c39c0arow0_col0\" class=\"data row0 col0\" >14813006</td>\n",
       "                        <td id=\"T_b1c4364c_772b_11ea_a505_8c8590c39c0arow0_col1\" class=\"data row0 col1\" >0.995900</td>\n",
       "            </tr>\n",
       "            <tr>\n",
       "                        <th id=\"T_b1c4364c_772b_11ea_a505_8c8590c39c0alevel0_row1\" class=\"row_heading level0 row1\" >1</th>\n",
       "                        <td id=\"T_b1c4364c_772b_11ea_a505_8c8590c39c0arow1_col0\" class=\"data row1 col0\" >12603280</td>\n",
       "                        <td id=\"T_b1c4364c_772b_11ea_a505_8c8590c39c0arow1_col1\" class=\"data row1 col1\" >0.993300</td>\n",
       "            </tr>\n",
       "            <tr>\n",
       "                        <th id=\"T_b1c4364c_772b_11ea_a505_8c8590c39c0alevel0_row2\" class=\"row_heading level0 row2\" >2</th>\n",
       "                        <td id=\"T_b1c4364c_772b_11ea_a505_8c8590c39c0arow2_col0\" class=\"data row2 col0\" >14760739</td>\n",
       "                        <td id=\"T_b1c4364c_772b_11ea_a505_8c8590c39c0arow2_col1\" class=\"data row2 col1\" >0.993300</td>\n",
       "            </tr>\n",
       "            <tr>\n",
       "                        <th id=\"T_b1c4364c_772b_11ea_a505_8c8590c39c0alevel0_row3\" class=\"row_heading level0 row3\" >3</th>\n",
       "                        <td id=\"T_b1c4364c_772b_11ea_a505_8c8590c39c0arow3_col0\" class=\"data row3 col0\" >5584915</td>\n",
       "                        <td id=\"T_b1c4364c_772b_11ea_a505_8c8590c39c0arow3_col1\" class=\"data row3 col1\" >0.992850</td>\n",
       "            </tr>\n",
       "            <tr>\n",
       "                        <th id=\"T_b1c4364c_772b_11ea_a505_8c8590c39c0alevel0_row4\" class=\"row_heading level0 row4\" >4</th>\n",
       "                        <td id=\"T_b1c4364c_772b_11ea_a505_8c8590c39c0arow4_col0\" class=\"data row4 col0\" >8481291</td>\n",
       "                        <td id=\"T_b1c4364c_772b_11ea_a505_8c8590c39c0arow4_col1\" class=\"data row4 col1\" >0.992800</td>\n",
       "            </tr>\n",
       "            <tr>\n",
       "                        <th id=\"T_b1c4364c_772b_11ea_a505_8c8590c39c0alevel0_row5\" class=\"row_heading level0 row5\" >5</th>\n",
       "                        <td id=\"T_b1c4364c_772b_11ea_a505_8c8590c39c0arow5_col0\" class=\"data row5 col0\" >12699603</td>\n",
       "                        <td id=\"T_b1c4364c_772b_11ea_a505_8c8590c39c0arow5_col1\" class=\"data row5 col1\" >0.992800</td>\n",
       "            </tr>\n",
       "            <tr>\n",
       "                        <th id=\"T_b1c4364c_772b_11ea_a505_8c8590c39c0alevel0_row6\" class=\"row_heading level0 row6\" >6</th>\n",
       "                        <td id=\"T_b1c4364c_772b_11ea_a505_8c8590c39c0arow6_col0\" class=\"data row6 col0\" >13655073</td>\n",
       "                        <td id=\"T_b1c4364c_772b_11ea_a505_8c8590c39c0arow6_col1\" class=\"data row6 col1\" >0.992100</td>\n",
       "            </tr>\n",
       "            <tr>\n",
       "                        <th id=\"T_b1c4364c_772b_11ea_a505_8c8590c39c0alevel0_row7\" class=\"row_heading level0 row7\" >7</th>\n",
       "                        <td id=\"T_b1c4364c_772b_11ea_a505_8c8590c39c0arow7_col0\" class=\"data row7 col0\" >14220964</td>\n",
       "                        <td id=\"T_b1c4364c_772b_11ea_a505_8c8590c39c0arow7_col1\" class=\"data row7 col1\" >0.991700</td>\n",
       "            </tr>\n",
       "            <tr>\n",
       "                        <th id=\"T_b1c4364c_772b_11ea_a505_8c8590c39c0alevel0_row8\" class=\"row_heading level0 row8\" >8</th>\n",
       "                        <td id=\"T_b1c4364c_772b_11ea_a505_8c8590c39c0arow8_col0\" class=\"data row8 col0\" >7841193</td>\n",
       "                        <td id=\"T_b1c4364c_772b_11ea_a505_8c8590c39c0arow8_col1\" class=\"data row8 col1\" >0.991700</td>\n",
       "            </tr>\n",
       "            <tr>\n",
       "                        <th id=\"T_b1c4364c_772b_11ea_a505_8c8590c39c0alevel0_row9\" class=\"row_heading level0 row9\" >9</th>\n",
       "                        <td id=\"T_b1c4364c_772b_11ea_a505_8c8590c39c0arow9_col0\" class=\"data row9 col0\" >5719606</td>\n",
       "                        <td id=\"T_b1c4364c_772b_11ea_a505_8c8590c39c0arow9_col1\" class=\"data row9 col1\" >0.991700</td>\n",
       "            </tr>\n",
       "    </tbody></table>"
      ],
      "text/plain": [
       "<pandas.io.formats.style.Styler at 0x124aa2990>"
      ]
     },
     "execution_count": 38,
     "metadata": {},
     "output_type": "execute_result"
    }
   ],
   "source": [
    "user_rec = get_recommendations(svdout, df_rec['reviewer_id'][0], 10)\n",
    "user_rec.style.bar(subset=['predicted_polarity'], align='mid', color=['#d65f5f', '#5fba7d'])"
   ]
  },
  {
   "cell_type": "code",
   "execution_count": null,
   "metadata": {},
   "outputs": [],
   "source": []
  }
 ],
 "metadata": {
  "kernelspec": {
   "display_name": "Python 3",
   "language": "python",
   "name": "python3"
  },
  "language_info": {
   "codemirror_mode": {
    "name": "ipython",
    "version": 3
   },
   "file_extension": ".py",
   "mimetype": "text/x-python",
   "name": "python",
   "nbconvert_exporter": "python",
   "pygments_lexer": "ipython3",
   "version": "3.7.7"
  },
  "toc": {
   "base_numbering": 1,
   "nav_menu": {},
   "number_sections": true,
   "sideBar": true,
   "skip_h1_title": false,
   "title_cell": "Table of Contents",
   "title_sidebar": "Contents",
   "toc_cell": false,
   "toc_position": {},
   "toc_section_display": true,
   "toc_window_display": false
  },
  "varInspector": {
   "cols": {
    "lenName": 16,
    "lenType": 16,
    "lenVar": 40
   },
   "kernels_config": {
    "python": {
     "delete_cmd_postfix": "",
     "delete_cmd_prefix": "del ",
     "library": "var_list.py",
     "varRefreshCmd": "print(var_dic_list())"
    },
    "r": {
     "delete_cmd_postfix": ") ",
     "delete_cmd_prefix": "rm(",
     "library": "var_list.r",
     "varRefreshCmd": "cat(var_dic_list()) "
    }
   },
   "types_to_exclude": [
    "module",
    "function",
    "builtin_function_or_method",
    "instance",
    "_Feature"
   ],
   "window_display": false
  }
 },
 "nbformat": 4,
 "nbformat_minor": 4
}
